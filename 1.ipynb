{
 "cells": [
  {
   "cell_type": "code",
   "execution_count": null,
   "id": "2cf4a032-6efb-4187-8b2c-64cffabd85f2",
   "metadata": {},
   "outputs": [],
   "source": []
  }
 ],
 "metadata": {
  "kernelspec": {
   "display_name": "",
   "name": ""
  },
  "language_info": {
   "name": ""
  }
 },
 "nbformat": 4,
 "nbformat_minor": 5
}
