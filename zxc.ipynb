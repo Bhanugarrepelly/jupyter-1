{
 "cells": [
  {
   "cell_type": "code",
   "execution_count": 1,
   "id": "b10a1d3f-0331-49cb-a0b0-964c42c723d4",
   "metadata": {},
   "outputs": [
    {
     "name": "stdout",
     "output_type": "stream",
     "text": [
      "sailaja\n"
     ]
    }
   ],
   "source": [
    "print(\"sailaja\")"
   ]
  },
  {
   "cell_type": "code",
   "execution_count": null,
   "id": "a2a5e0d4-352e-4701-ac0a-f997f6870d18",
   "metadata": {},
   "outputs": [],
   "source": []
  }
 ],
 "metadata": {
  "kernelspec": {
   "display_name": "Python 3 (ipykernel)",
   "language": "python",
   "name": "python3"
  },
  "language_info": {
   "codemirror_mode": {
    "name": "ipython",
    "version": 3
   },
   "file_extension": ".py",
   "mimetype": "text/x-python",
   "name": "python",
   "nbconvert_exporter": "python",
   "pygments_lexer": "ipython3",
   "version": "3.11.5"
  }
 },
 "nbformat": 4,
 "nbformat_minor": 5
}
